{
  "nbformat": 4,
  "nbformat_minor": 0,
  "metadata": {
    "colab": {
      "provenance": [],
      "gpuType": "T4"
    },
    "kernelspec": {
      "name": "python3",
      "display_name": "Python 3"
    },
    "language_info": {
      "name": "python"
    },
    "accelerator": "GPU"
  },
  "cells": [
    {
      "cell_type": "code",
      "source": [
        "\"\"\"\n",
        "hnsw_full_implementation.py\n",
        "\n",
        "Production-ready HNSW (Hierarchical Navigable Small World) implementation in Python.\n",
        "\n",
        "Features:\n",
        "- Multi-layer HNSW graph with probabilistic level assignment\n",
        "- Thread-safe incremental add_point (real-time inserts) and search\n",
        "- ef_construction / ef_search parameters, M (max neighbors) and mL level multiplier\n",
        "- Diversity-aware neighbor selection heuristic (HNSW paper / visual guide)\n",
        "- Persistence: save() / load() (numpy + JSON)\n",
        "- Deletion (lazy tombstone) + rebuild to compact the graph\n",
        "- Support for Euclidean (L2) and Cosine distance metrics\n",
        "- CLI for build/query/serve and simple FastAPI endpoint (optional)\n",
        "\n",
        "Reference: \"A Visual Guide to HNSW\" (Christopher Fu, May 2024)\n",
        "\"\"\"\n",
        "\n",
        "from __future__ import annotations\n",
        "\n",
        "import math\n",
        "import random\n",
        "import threading\n",
        "import heapq\n",
        "import json\n",
        "import os\n",
        "import argparse\n",
        "from typing import List, Tuple, Dict, Optional, Callable\n",
        "\n",
        "import numpy as np\n",
        "\n",
        "try:\n",
        "    from fastapi import FastAPI, HTTPException\n",
        "    import uvicorn\n",
        "    _HAS_FASTAPI = True\n",
        "except Exception:\n",
        "    _HAS_FASTAPI = False\n",
        "\n",
        "\n",
        "# ---------------------------\n",
        "# Distance metrics\n",
        "# ---------------------------\n",
        "\n",
        "def l2_distance(a: np.ndarray, b: np.ndarray) -> float:\n",
        "    return float(np.linalg.norm(a - b))\n",
        "\n",
        "\n",
        "def cosine_distance(a: np.ndarray, b: np.ndarray) -> float:\n",
        "    na = np.linalg.norm(a)\n",
        "    nb = np.linalg.norm(b)\n",
        "    if na == 0 or nb == 0:\n",
        "        return 1.0\n",
        "    cos = float(np.dot(a, b) / (na * nb))\n",
        "    return 1.0 - cos\n",
        "\n",
        "\n",
        "_METRICS: Dict[str, Callable[[np.ndarray, np.ndarray], float]] = {\n",
        "    \"l2\": l2_distance,\n",
        "    \"cosine\": cosine_distance,\n",
        "}\n",
        "\n",
        "\n",
        "# ---------------------------\n",
        "# HNSW Class\n",
        "# ---------------------------\n",
        "\n",
        "class HNSW:\n",
        "    \"\"\"Hierarchical Navigable Small World index.\n",
        "\n",
        "    Attributes:\n",
        "        dim: vector dimensionality\n",
        "        M: max neighbors per node (levels > 0)\n",
        "        ef_construction: ef used during insertion\n",
        "        ef_search: default ef used during queries\n",
        "        mL: level multiplier for random level generation\n",
        "        metric_name: 'l2' or 'cosine'\n",
        "    \"\"\"\n",
        "\n",
        "    def __init__(self,\n",
        "                 dim: int,\n",
        "                 M: int = 16,\n",
        "                 ef_construction: int = 200,\n",
        "                 ef_search: int = 50,\n",
        "                 mL: Optional[float] = None,\n",
        "                 metric: str = \"l2\",\n",
        "                 max_m0: Optional[int] = None,\n",
        "                 seed: Optional[int] = 42):\n",
        "        if metric not in _METRICS:\n",
        "            raise ValueError(f\"Unsupported metric: {metric}\")\n",
        "\n",
        "        self.dim = int(dim)\n",
        "        self.M = int(M)\n",
        "        self.ef_construction = int(ef_construction)\n",
        "        self.ef_search = int(ef_search)\n",
        "        self.mL = float(mL) if mL is not None else 1.0 / math.log(max(2, M))\n",
        "        self.metric_name = metric\n",
        "        self._dist_fn = _METRICS[metric]\n",
        "\n",
        "        # degree cap for layer 0 can be larger; default to 2*M if not provided\n",
        "        self.max_m0 = int(max_m0) if max_m0 is not None else (self.M * 2)\n",
        "\n",
        "        # core storage\n",
        "        self.vectors: List[np.ndarray] = []\n",
        "        self.levels: List[int] = []\n",
        "        self.graph: List[Dict[int, List[int]]] = []\n",
        "        self.tombstones: List[bool] = []\n",
        "\n",
        "        # concurrency\n",
        "        self._lock = threading.RLock()\n",
        "        self.entry_point: Optional[int] = None\n",
        "        self.max_layer: int = -1\n",
        "\n",
        "        # RNG\n",
        "        self._rand = random.Random(seed)\n",
        "\n",
        "    # ----------------\n",
        "    # Low-level helpers\n",
        "    # ----------------\n",
        "    def _random_level(self) -> int:\n",
        "        # Random level generation: floor(-ln(U) * mL)\n",
        "        u = self._rand.random()\n",
        "        if u <= 0.0:\n",
        "            u = 1e-16\n",
        "        lvl = int(-math.log(u) * self.mL)\n",
        "        return lvl\n",
        "\n",
        "    def _dist(self, a_idx: int, vec: np.ndarray) -> float:\n",
        "        return self._dist_fn(self.vectors[a_idx], vec)\n",
        "\n",
        "    # ----------------\n",
        "    # Neighbor selection heuristic\n",
        "    # ----------------\n",
        "    def _select_neighbors(self, candidates: List[Tuple[float, int]], M: int) -> List[int]:\n",
        "        \"\"\"Select up to M neighbors from candidates (sorted by dist asc) using HNSW heuristic.\n",
        "\n",
        "        The heuristic prefers diverse neighbors: a candidate is skipped if an already selected\n",
        "        neighbor is closer to the candidate than the candidate's distance to the query (redundancy check).\n",
        "        \"\"\"\n",
        "        selected: List[int] = []\n",
        "        for dist, nid in candidates:\n",
        "            ok = True\n",
        "            for sid in selected:\n",
        "                d_between = self._dist_fn(self.vectors[sid], self.vectors[nid])\n",
        "                if d_between < dist:\n",
        "                    ok = False\n",
        "                    break\n",
        "            if ok:\n",
        "                selected.append(nid)\n",
        "                if len(selected) >= M:\n",
        "                    break\n",
        "        return selected\n",
        "\n",
        "    # ----------------\n",
        "    # ef-search on a layer\n",
        "    # ----------------\n",
        "    def _search_layer(self, query_vec: np.ndarray, entry_point: int, ef: int, layer: int) -> List[int]:\n",
        "        \"\"\"Return up to ef best candidates on a given layer starting from entry_point.\"\"\"\n",
        "        visited = set()\n",
        "        # top_candidates: max-heap by negative distance (keeps best ef found so far)\n",
        "        top_heap: List[Tuple[float, int]] = []\n",
        "        # candidates: min-heap by distance for exploration\n",
        "        cand_heap: List[Tuple[float, int]] = []\n",
        "\n",
        "        entry_dist = self._dist(entry_point, query_vec)\n",
        "        heapq.heappush(top_heap, (-entry_dist, entry_point))\n",
        "        heapq.heappush(cand_heap, (entry_dist, entry_point))\n",
        "        visited.add(entry_point)\n",
        "\n",
        "        while cand_heap:\n",
        "            cur_dist, cur = cand_heap[0]\n",
        "            # worst distance among top candidates (smallest priority in max-heap)\n",
        "            worst_top = -top_heap[0][0]\n",
        "            if len(top_heap) >= ef and cur_dist > worst_top:\n",
        "                break\n",
        "            heapq.heappop(cand_heap)\n",
        "            neighs = self.graph[cur].get(layer, [])\n",
        "            for n in neighs:\n",
        "                if self.tombstones[n]:\n",
        "                    continue\n",
        "                if n in visited:\n",
        "                    continue\n",
        "                visited.add(n)\n",
        "                d = self._dist(n, query_vec)\n",
        "                if len(top_heap) < ef or d < -top_heap[0][0]:\n",
        "                    heapq.heappush(cand_heap, (d, n))\n",
        "                    heapq.heappush(top_heap, (-d, n))\n",
        "                    if len(top_heap) > ef:\n",
        "                        heapq.heappop(top_heap)\n",
        "\n",
        "        # extract sorted ascending by distance\n",
        "        res = sorted([(-d, nid) for (d, nid) in top_heap], key=lambda x: x[0])\n",
        "        return [nid for (_d, nid) in res]\n",
        "\n",
        "    # ----------------\n",
        "    # Public API\n",
        "    # ----------------\n",
        "    def add_point(self, vector: np.ndarray) -> int:\n",
        "        \"\"\"Insert a vector into the HNSW index and return its id. Thread-safe.\"\"\"\n",
        "        if vector.shape[0] != self.dim:\n",
        "            raise ValueError(\"Vector dimensionality mismatch\")\n",
        "        vec = vector.astype(np.float32)\n",
        "\n",
        "        with self._lock:\n",
        "            vid = len(self.vectors)\n",
        "            self.vectors.append(vec)\n",
        "            lvl = self._random_level()\n",
        "            self.levels.append(lvl)\n",
        "            self.tombstones.append(False)\n",
        "            self.graph.append({})\n",
        "            for l in range(lvl + 1):\n",
        "                self.graph[vid].setdefault(l, [])\n",
        "\n",
        "            # first element\n",
        "            if self.entry_point is None:\n",
        "                self.entry_point = vid\n",
        "                self.max_layer = lvl\n",
        "                return vid\n",
        "\n",
        "            cur_ep = self.entry_point\n",
        "            cur_max = self.max_layer\n",
        "\n",
        "            # 1) greedy descent from top layer down to lvl+1 using ef=1 like greedy search\n",
        "            for layer in range(cur_max, lvl, -1):\n",
        "                improved = True\n",
        "                while improved:\n",
        "                    improved = False\n",
        "                    neighs = self.graph[cur_ep].get(layer, [])\n",
        "                    for n in neighs:\n",
        "                        if self.tombstones[n]:\n",
        "                            continue\n",
        "                        if self._dist(n, vec) < self._dist(cur_ep, vec):\n",
        "                            cur_ep = n\n",
        "                            improved = True\n",
        "\n",
        "            # 2) for layers <= lvl, run ef_construction (or ef=1) searches and connect\n",
        "            for layer in range(min(lvl, cur_max), -1, -1):\n",
        "                ef = self.ef_construction if layer <= lvl else 1\n",
        "                ef = max(ef, 1)\n",
        "                candidates = self._search_layer(vec, cur_ep, ef=ef, layer=layer)\n",
        "                cand_dists = sorted([(self._dist(cid, vec), cid) for cid in candidates], key=lambda x: x[0])\n",
        "\n",
        "                M_here = self.M if layer > 0 else self.max_m0\n",
        "                selected = self._select_neighbors(cand_dists, M_here)\n",
        "\n",
        "                # link bidirectionally and prune neighbor lists if needed\n",
        "                for neigh in selected:\n",
        "                    self.graph[vid].setdefault(layer, []).append(neigh)\n",
        "                    neigh_adj = self.graph[neigh].setdefault(layer, [])\n",
        "                    neigh_adj.append(vid)\n",
        "                    if len(neigh_adj) > (self.M if layer > 0 else self.max_m0):\n",
        "                        # prune to best by distance to neighbor\n",
        "                        neigh_list = sorted([(self._dist(x, self.vectors[neigh]) if isinstance(self.vectors[neigh], np.ndarray) else self._dist(x, self.vectors[neigh]), x) for x in neigh_adj], key=lambda x: x[0])\n",
        "                        keep = [x[1] for x in neigh_list[: (self.M if layer > 0 else self.max_m0)]]\n",
        "                        self.graph[neigh][layer] = keep\n",
        "\n",
        "                # set cur_ep to best candidate for next lower layer (closest)\n",
        "                if len(cand_dists) > 0:\n",
        "                    cur_ep = cand_dists[0][1]\n",
        "\n",
        "            # update global entry point if this node has highest level\n",
        "            if lvl > self.max_layer:\n",
        "                self.max_layer = lvl\n",
        "                self.entry_point = vid\n",
        "\n",
        "            return vid\n",
        "\n",
        "    def search(self, query_vec: np.ndarray, k: int = 10, ef: Optional[int] = None) -> List[Tuple[int, float]]:\n",
        "        \"\"\"Search k nearest neighbors. Returns list of (id, distance). Thread-safe.\"\"\"\n",
        "        if query_vec.shape[0] != self.dim:\n",
        "            raise ValueError(\"Query dimensionality mismatch\")\n",
        "        with self._lock:\n",
        "            if self.entry_point is None:\n",
        "                return []\n",
        "            ef = max(self.ef_search if ef is None else ef, k)\n",
        "\n",
        "            cur = self.entry_point\n",
        "            # greedy descent on higher layers\n",
        "            for layer in range(self.max_layer, 0, -1):\n",
        "                improved = True\n",
        "                while improved:\n",
        "                    improved = False\n",
        "                    neighs = self.graph[cur].get(layer, [])\n",
        "                    for n in neighs:\n",
        "                        if self.tombstones[n]:\n",
        "                            continue\n",
        "                        if self._dist(n, query_vec) < self._dist(cur, query_vec):\n",
        "                            cur = n\n",
        "                            improved = True\n",
        "\n",
        "            # base layer ef-search\n",
        "            candidates = self._search_layer(query_vec, cur, ef=ef, layer=0)\n",
        "            scored = [(nid, self._dist(nid, query_vec)) for nid in candidates]\n",
        "            scored_sorted = sorted(scored, key=lambda x: x[1])[:k]\n",
        "            return scored_sorted\n",
        "\n",
        "    def delete(self, node_id: int) -> bool:\n",
        "        \"\"\"Lazy delete: mark node as tombstone. Returns True if deleted.\"\"\"\n",
        "        with self._lock:\n",
        "            if node_id < 0 or node_id >= len(self.vectors):\n",
        "                return False\n",
        "            if self.tombstones[node_id]:\n",
        "                return False\n",
        "            self.tombstones[node_id] = True\n",
        "            # Do not eagerly remove edges here — optional background cleanup can prune lists.\n",
        "            return True\n",
        "\n",
        "    # ----------------\n",
        "    # Persistence\n",
        "    # ----------------\n",
        "    def save(self, path: str) -> None:\n",
        "        \"\"\"Save index to directory `path`. Creates directory if necessary.\"\"\"\n",
        "        os.makedirs(path, exist_ok=True)\n",
        "        # stack vectors into 2D array\n",
        "        if len(self.vectors) > 0:\n",
        "            vecs = np.stack(self.vectors).astype(np.float32)\n",
        "        else:\n",
        "            vecs = np.zeros((0, self.dim), dtype=np.float32)\n",
        "        np.save(os.path.join(path, \"vectors.npy\"), vecs)\n",
        "        np.save(os.path.join(path, \"levels.npy\"), np.array(self.levels, dtype=np.int32))\n",
        "        np.save(os.path.join(path, \"tombstones.npy\"), np.array(self.tombstones, dtype=np.bool_))\n",
        "\n",
        "        # graph: serialize adjacency lists\n",
        "        graph_serial = []\n",
        "        for node_adj in self.graph:\n",
        "            serial = {str(l): list(neighs) for l, neighs in node_adj.items()}\n",
        "            graph_serial.append(serial)\n",
        "        with open(os.path.join(path, \"graph.json\"), \"w\") as f:\n",
        "            json.dump(graph_serial, f)\n",
        "\n",
        "        meta = {\n",
        "            \"dim\": self.dim,\n",
        "            \"M\": self.M,\n",
        "            \"ef_construction\": self.ef_construction,\n",
        "            \"ef_search\": self.ef_search,\n",
        "            \"mL\": self.mL,\n",
        "            \"metric\": self.metric_name,\n",
        "            \"max_m0\": self.max_m0,\n",
        "            \"entry_point\": self.entry_point,\n",
        "            \"max_layer\": self.max_layer,\n",
        "        }\n",
        "        with open(os.path.join(path, \"meta.json\"), \"w\") as f:\n",
        "            json.dump(meta, f)\n",
        "\n",
        "    @classmethod\n",
        "    def load(cls, path: str) -> \"HNSW\":\n",
        "        \"\"\"Load an index from directory `path`.\"\"\"\n",
        "        with open(os.path.join(path, \"meta.json\"), \"r\") as f:\n",
        "            meta = json.load(f)\n",
        "        dim = int(meta[\"dim\"])\n",
        "        M = int(meta[\"M\"])\n",
        "        efc = int(meta.get(\"ef_construction\", 200))\n",
        "        efs = int(meta.get(\"ef_search\", 50))\n",
        "        mL = float(meta.get(\"mL\", None)) if meta.get(\"mL\", None) is not None else None\n",
        "        metric = meta.get(\"metric\", \"l2\")\n",
        "        max_m0 = int(meta.get(\"max_m0\", M * 2))\n",
        "\n",
        "        idx = cls(dim=dim, M=M, ef_construction=efc, ef_search=efs, mL=mL, metric=metric, max_m0=max_m0)\n",
        "\n",
        "        vecs = np.load(os.path.join(path, \"vectors.npy\"))\n",
        "        levels = np.load(os.path.join(path, \"levels.npy\"))\n",
        "        tomb = np.load(os.path.join(path, \"tombstones.npy\"))\n",
        "\n",
        "        idx.vectors = [vecs[i].astype(np.float32) for i in range(vecs.shape[0])]\n",
        "        idx.levels = [int(x) for x in levels.tolist()]\n",
        "        idx.tombstones = [bool(x) for x in tomb.tolist()]\n",
        "\n",
        "        with open(os.path.join(path, \"graph.json\"), \"r\") as f:\n",
        "            graph_serial = json.load(f)\n",
        "        idx.graph = []\n",
        "        for node in graph_serial:\n",
        "            d = {int(k): list(v) for k, v in node.items()}\n",
        "            idx.graph.append(d)\n",
        "\n",
        "        idx.entry_point = meta.get(\"entry_point\", None)\n",
        "        idx.max_layer = int(meta.get(\"max_layer\", -1))\n",
        "        return idx\n",
        "\n",
        "    # ----------------\n",
        "    # Rebuild after many deletions\n",
        "    # ----------------\n",
        "    def rebuild(self) -> \"HNSW\":\n",
        "        \"\"\"Return a new HNSW built from non-deleted vectors. Useful after many deletes.\"\"\"\n",
        "        with self._lock:\n",
        "            alive_indices = [i for i, t in enumerate(self.tombstones) if not t]\n",
        "            new_idx = HNSW(dim=self.dim, M=self.M, ef_construction=self.ef_construction,\n",
        "                           ef_search=self.ef_search, mL=self.mL, metric=self.metric_name, max_m0=self.max_m0)\n",
        "            for i in alive_indices:\n",
        "                new_idx.add_point(self.vectors[i])\n",
        "            return new_idx\n",
        "\n",
        "\n",
        "# ---------------------------\n",
        "# CLI and optional HTTP server\n",
        "# ---------------------------\n",
        "\n",
        "CLI_HELP = \"\"\"\n",
        "Simple CLI for building and querying the HNSW index.\n",
        "Examples:\n",
        "  python hnsw_full_implementation.py --build --n 1000 --dim 128 --out idx_dir\n",
        "  python hnsw_full_implementation.py --load idx_dir --query-file queries.npy --k 5\n",
        "  python hnsw_full_implementation.py --serve --load idx_dir --port 8000\n",
        "\"\"\"\n",
        "\n",
        "\n",
        "def _cli_build(args):\n",
        "    idx = HNSW(dim=args.dim, M=args.M, ef_construction=args.efc, ef_search=args.efs, mL=args.mL, metric=args.metric)\n",
        "    print(f\"Building index with n={args.n}, dim={args.dim}\")\n",
        "    for i in range(args.n):\n",
        "        vec = np.random.randn(args.dim).astype(np.float32)\n",
        "        idx.add_point(vec)\n",
        "        if (i + 1) % 1000 == 0:\n",
        "            print(f\"Inserted {i+1} / {args.n}\")\n",
        "    idx.save(args.out)\n",
        "    print(f\"Saved index to {args.out}\")\n",
        "\n",
        "\n",
        "def _cli_query(args):\n",
        "    idx = HNSW.load(args.load)\n",
        "    if args.query_file is None:\n",
        "        q = np.random.randn(idx.dim).astype(np.float32)\n",
        "        res = idx.search(q, k=args.k, ef=args.ef)\n",
        "        print(res)\n",
        "    else:\n",
        "        qs = np.load(args.query_file)\n",
        "        for i in range(min(len(qs), args.max_queries)):\n",
        "            res = idx.search(qs[i].astype(np.float32), k=args.k, ef=args.ef)\n",
        "            print(i, res)\n",
        "\n",
        "\n",
        "def _cli_serve(args):\n",
        "    if not _HAS_FASTAPI:\n",
        "        raise RuntimeError(\"FastAPI/uvicorn not installed. Install to use --serve\")\n",
        "    idx = HNSW.load(args.load)\n",
        "    app = FastAPI()\n",
        "\n",
        "    @app.post('/search')\n",
        "    def search_endpoint(body: dict):\n",
        "        q = body.get('q')\n",
        "        if q is None:\n",
        "            raise HTTPException(status_code=400, detail='q field (array) required')\n",
        "        qarr = np.array(q, dtype=np.float32)\n",
        "        k = int(body.get('k', 10))\n",
        "        ef = body.get('ef', None)\n",
        "        res = idx.search(qarr, k=k, ef=ef)\n",
        "        return {'result': res}\n",
        "\n",
        "    uvicorn.run(app, host='0.0.0.0', port=args.port)\n",
        "\n",
        "\n"
      ],
      "metadata": {
        "id": "pWCc21ieOm9V"
      },
      "execution_count": 3,
      "outputs": []
    },
    {
      "cell_type": "code",
      "source": [
        "# Create an HNSW index\n",
        "dim = 128  # Dimensionality of vectors\n",
        "hnsw_index = HNSW(dim=dim, M=16, ef_construction=200, ef_search=50, metric=\"l2\")\n",
        "\n",
        "# Add some random vectors to the index\n",
        "num_vectors = 100\n",
        "print(f\"Adding {num_vectors} random vectors...\")\n",
        "for i in range(num_vectors):\n",
        "    vector = np.random.randn(dim).astype(np.float32)\n",
        "    hnsw_index.add_point(vector)\n",
        "print(\"Vectors added.\")\n",
        "\n",
        "# Perform a search query\n",
        "query_vector = np.random.randn(dim).astype(np.float32)\n",
        "k = 5  # Number of nearest neighbors to find\n",
        "print(f\"\\nSearching for {k} nearest neighbors...\")\n",
        "results = hnsw_index.search(query_vector, k=k)\n",
        "\n",
        "# Print the search results\n",
        "print(\"Search results (node_id, distance):\")\n",
        "for node_id, distance in results:\n",
        "    print(f\"  {node_id}: {distance}\")"
      ],
      "metadata": {
        "colab": {
          "base_uri": "https://localhost:8080/"
        },
        "id": "gZsUxE9aOpRq",
        "outputId": "26ba5fcd-1065-4aee-9a26-9493236b41e1"
      },
      "execution_count": 4,
      "outputs": [
        {
          "output_type": "stream",
          "name": "stdout",
          "text": [
            "Adding 100 random vectors...\n",
            "Vectors added.\n",
            "\n",
            "Searching for 5 nearest neighbors...\n",
            "Search results (node_id, distance):\n",
            "  10: 14.11213493347168\n",
            "  55: 14.1301851272583\n",
            "  35: 14.247376441955566\n",
            "  65: 14.4413480758667\n",
            "  89: 14.466874122619629\n"
          ]
        }
      ]
    },
    {
      "cell_type": "markdown",
      "metadata": {
        "id": "010d6e06"
      },
      "source": [
        "# Task\n",
        "Apply the HNSW algorithm on a suitable dataset to retrieve similar items."
      ]
    },
    {
      "cell_type": "markdown",
      "metadata": {
        "id": "6b82bc3e"
      },
      "source": [
        "## Identify and load a suitable dataset\n",
        "\n",
        "### Subtask:\n",
        "Identify and load a suitable dataset\n"
      ]
    },
    {
      "cell_type": "code",
      "metadata": {
        "colab": {
          "base_uri": "https://localhost:8080/"
        },
        "id": "upjEKh_pPKj5",
        "outputId": "168d6ac2-1ea7-4414-f4ed-2cd551e8247a"
      },
      "source": [
        "import tensorflow as tf\n",
        "import numpy as np\n",
        "import os\n",
        "\n",
        "# Download the Fashion MNIST dataset\n",
        "print(\"Downloading Fashion MNIST dataset...\")\n",
        "(x_train, y_train), (x_test, y_test) = tf.keras.datasets.fashion_mnist.load_data()\n",
        "print(\"Download complete.\")\n",
        "\n",
        "# Flatten the images to vectors and normalize\n",
        "# We will use the training set as the base vectors and the test set as query vectors\n",
        "base_vectors = x_train.reshape(x_train.shape[0], -1).astype('float32') / 255.0\n",
        "query_vectors = x_test.reshape(x_test.shape[0], -1).astype('float32') / 255.0\n",
        "\n",
        "print(f\"Loaded base vectors shape: {base_vectors.shape}\")\n",
        "print(f\"Loaded query vectors shape: {query_vectors.shape}\")"
      ],
      "execution_count": 6,
      "outputs": [
        {
          "output_type": "stream",
          "name": "stdout",
          "text": [
            "Downloading Fashion MNIST dataset...\n",
            "Downloading data from https://storage.googleapis.com/tensorflow/tf-keras-datasets/train-labels-idx1-ubyte.gz\n",
            "29515/29515 [==============================] - 0s 0us/step\n",
            "Downloading data from https://storage.googleapis.com/tensorflow/tf-keras-datasets/train-images-idx3-ubyte.gz\n",
            "26421880/26421880 [==============================] - 0s 0us/step\n",
            "Downloading data from https://storage.googleapis.com/tensorflow/tf-keras-datasets/t10k-labels-idx1-ubyte.gz\n",
            "5148/5148 [==============================] - 0s 0us/step\n",
            "Downloading data from https://storage.googleapis.com/tensorflow/tf-keras-datasets/t10k-images-idx3-ubyte.gz\n",
            "4422102/4422102 [==============================] - 0s 0us/step\n",
            "Download complete.\n",
            "Loaded base vectors shape: (60000, 784)\n",
            "Loaded query vectors shape: (10000, 784)\n"
          ]
        }
      ]
    },
    {
      "cell_type": "markdown",
      "metadata": {
        "id": "77726db7"
      },
      "source": [
        "## Prepare data for hnsw\n",
        "\n",
        "### Subtask:\n",
        "Extract the numerical vectors from the dataset. Ensure they are in the correct format and dimensionality for the HNSW index.\n"
      ]
    },
    {
      "cell_type": "markdown",
      "metadata": {
        "id": "2e2601ae"
      },
      "source": [
        "**Reasoning**:\n",
        "Verify the data types and dimensionalities of `base_vectors` and `query_vectors`.\n",
        "\n"
      ]
    },
    {
      "cell_type": "code",
      "metadata": {
        "colab": {
          "base_uri": "https://localhost:8080/"
        },
        "id": "83805570",
        "outputId": "6c3ecd03-6f2e-4308-80b1-dc30b0e8c3f2"
      },
      "source": [
        "# 1. Verify data types\n",
        "print(f\"Data type of base_vectors: {base_vectors.dtype}\")\n",
        "print(f\"Data type of query_vectors: {query_vectors.dtype}\")\n",
        "\n",
        "# 2. Confirm dimensionality of base_vectors\n",
        "# The dimensionality 'dim' is set based on the flattened Fashion MNIST images (28 * 28 = 784)\n",
        "expected_dim = 784\n",
        "print(f\"Dimensionality of base_vectors: {base_vectors.shape[1]}\")\n",
        "print(f\"Expected dimensionality (dim): {expected_dim}\")\n",
        "if base_vectors.shape[1] != expected_dim:\n",
        "    print(\"Warning: Dimensionality of base_vectors does not match expected_dim.\")\n",
        "\n",
        "# 3. Ensure query_vectors have the same dimensionality\n",
        "print(f\"Dimensionality of query_vectors: {query_vectors.shape[1]}\")\n",
        "if query_vectors.shape[1] != base_vectors.shape[1]:\n",
        "    print(\"Warning: Dimensionality of query_vectors does not match base_vectors.\")\n",
        "\n",
        "# Update the 'dim' variable used by the HNSW index if necessary, based on the actual data.\n",
        "# Although 'dim' was previously set to 128 for demonstration, it should match the dataset.\n",
        "dim = base_vectors.shape[1]\n",
        "print(f\"Updated dim variable to match base_vectors: {dim}\")"
      ],
      "execution_count": 7,
      "outputs": [
        {
          "output_type": "stream",
          "name": "stdout",
          "text": [
            "Data type of base_vectors: float32\n",
            "Data type of query_vectors: float32\n",
            "Dimensionality of base_vectors: 784\n",
            "Expected dimensionality (dim): 784\n",
            "Dimensionality of query_vectors: 784\n",
            "Updated dim variable to match base_vectors: 784\n"
          ]
        }
      ]
    },
    {
      "cell_type": "markdown",
      "metadata": {
        "id": "26d0bb7f"
      },
      "source": [
        "## Initialize and build hnsw index\n",
        "\n",
        "### Subtask:\n",
        "Create an instance of the `HNSW` class with appropriate parameters for the dataset's dimensionality and characteristics. Add the vectors from the dataset to the index.\n"
      ]
    },
    {
      "cell_type": "markdown",
      "metadata": {
        "id": "7b51afa1"
      },
      "source": [
        "**Reasoning**:\n",
        "Instantiate the HNSW class and add the base vectors to the index with progress updates.\n",
        "\n"
      ]
    },
    {
      "cell_type": "code",
      "metadata": {
        "colab": {
          "base_uri": "https://localhost:8080/"
        },
        "id": "61481589",
        "outputId": "b3609a48-a511-4b00-9ea2-b9beff8d2478"
      },
      "source": [
        "# 1. Instantiate the HNSW class\n",
        "# Use the updated 'dim' variable which is 784\n",
        "hnsw_index = HNSW(dim=dim, M=16, ef_construction=200, ef_search=50, metric=\"l2\")\n",
        "print(f\"Initialized HNSW index with dim={dim}, M=16, ef_construction=200, ef_search=50, metric='l2'\")\n",
        "\n",
        "# 2. Add each vector from base_vectors to the index\n",
        "num_base_vectors = base_vectors.shape[0]\n",
        "print(f\"\\nAdding {num_base_vectors} base vectors to the index...\")\n",
        "for i in range(num_base_vectors):\n",
        "    hnsw_index.add_point(base_vectors[i])\n",
        "    if (i + 1) % 10000 == 0:\n",
        "        print(f\"Added {i + 1} / {num_base_vectors} vectors...\")\n",
        "\n",
        "# 3. Print the number of vectors added\n",
        "print(f\"\\nFinished adding vectors. Total vectors added: {len(hnsw_index.vectors)}\")"
      ],
      "execution_count": 8,
      "outputs": [
        {
          "output_type": "stream",
          "name": "stdout",
          "text": [
            "Initialized HNSW index with dim=784, M=16, ef_construction=200, ef_search=50, metric='l2'\n",
            "\n",
            "Adding 60000 base vectors to the index...\n",
            "Added 10000 / 60000 vectors...\n",
            "Added 20000 / 60000 vectors...\n",
            "Added 30000 / 60000 vectors...\n",
            "Added 40000 / 60000 vectors...\n",
            "Added 50000 / 60000 vectors...\n",
            "Added 60000 / 60000 vectors...\n",
            "\n",
            "Finished adding vectors. Total vectors added: 60000\n"
          ]
        }
      ]
    },
    {
      "cell_type": "markdown",
      "metadata": {
        "id": "04bce504"
      },
      "source": [
        "## Perform retrieval/search\n",
        "\n",
        "### Subtask:\n",
        "Select a query vector (either from the dataset or a new vector) and use the `search` method of the HNSW index to find the nearest neighbors.\n"
      ]
    },
    {
      "cell_type": "markdown",
      "metadata": {
        "id": "3a868020"
      },
      "source": [
        "**Reasoning**:\n",
        "Select a query vector from the query_vectors array, define the number of nearest neighbors, call the search method, and store the results.\n",
        "\n"
      ]
    },
    {
      "cell_type": "code",
      "metadata": {
        "colab": {
          "base_uri": "https://localhost:8080/"
        },
        "id": "d4fa32db",
        "outputId": "2b1c28a2-7ee5-4761-d014-696d588d06ac"
      },
      "source": [
        "# 1. Select a query vector\n",
        "# We will use the first vector from the query_vectors array as the query\n",
        "query_vector = query_vectors[0]\n",
        "print(f\"Selected query vector from query_vectors[0] with shape: {query_vector.shape}\")\n",
        "\n",
        "# 2. Define the number of nearest neighbors (k)\n",
        "k = 10  # You can adjust this number as needed\n",
        "print(f\"Defined number of nearest neighbors (k): {k}\")\n",
        "\n",
        "# 3. Call the search method on the hnsw_index object\n",
        "print(f\"\\nSearching for the {k} nearest neighbors...\")\n",
        "results = hnsw_index.search(query_vector, k=k)\n",
        "\n",
        "# 4. Store the results (already done in the previous step)\n",
        "\n",
        "# 5. Print a message indicating that the search is complete and show results\n",
        "print(\"Search complete.\")\n",
        "print(\"Search results (node_id, distance):\")\n",
        "for node_id, distance in results:\n",
        "    print(f\"  Node ID: {node_id}, Distance: {distance:.4f}\")"
      ],
      "execution_count": 9,
      "outputs": [
        {
          "output_type": "stream",
          "name": "stdout",
          "text": [
            "Selected query vector from query_vectors[0] with shape: (784,)\n",
            "Defined number of nearest neighbors (k): 10\n",
            "\n",
            "Searching for the 10 nearest neighbors...\n",
            "Search complete.\n",
            "Search results (node_id, distance):\n",
            "  Node ID: 18094, Distance: 1.8914\n",
            "  Node ID: 53939, Distance: 2.6745\n",
            "  Node ID: 18352, Distance: 2.7784\n",
            "  Node ID: 52468, Distance: 2.8613\n",
            "  Node ID: 15081, Distance: 2.9884\n",
            "  Node ID: 29768, Distance: 3.0169\n",
            "  Node ID: 21342, Distance: 3.1030\n",
            "  Node ID: 17346, Distance: 3.2311\n",
            "  Node ID: 45266, Distance: 3.2524\n",
            "  Node ID: 18339, Distance: 3.2607\n"
          ]
        }
      ]
    },
    {
      "cell_type": "markdown",
      "metadata": {
        "id": "8ddd52f4"
      },
      "source": [
        "## Analyze and display results\n",
        "\n",
        "### Subtask:\n",
        "Examine the retrieved neighbors and their distances. Display the results in a clear and informative way.\n"
      ]
    },
    {
      "cell_type": "markdown",
      "metadata": {
        "id": "14a1aba4"
      },
      "source": [
        "**Reasoning**:\n",
        "Iterate through the results list and print the node ID and distance for each neighbor.\n",
        "\n"
      ]
    },
    {
      "cell_type": "code",
      "metadata": {
        "colab": {
          "base_uri": "https://localhost:8080/"
        },
        "id": "fe3b79ca",
        "outputId": "1140cd5b-08ae-4879-c0d5-fb2c4c65a5c2"
      },
      "source": [
        "# 1. Iterate through the results list\n",
        "print(\"Search results (node_id, distance):\")\n",
        "for node_id, distance in results:\n",
        "    # 2. Print the node_id and its corresponding distance\n",
        "    # 3. Format the distance to a reasonable number of decimal places\n",
        "    print(f\"  Node ID: {node_id}, Distance: {distance:.4f}\")\n",
        "\n",
        "# 4. Add a brief interpretation of the results\n",
        "print(\"\\nInterpretation:\")\n",
        "print(f\"The search returned {len(results)} nearest neighbors for the query vector.\")\n",
        "print(\"Each result shows the ID of the vector in the index and its calculated distance from the query vector.\")\n",
        "print(\"Lower distance values indicate higher similarity between the stored vector and the query vector.\")"
      ],
      "execution_count": 10,
      "outputs": [
        {
          "output_type": "stream",
          "name": "stdout",
          "text": [
            "Search results (node_id, distance):\n",
            "  Node ID: 18094, Distance: 1.8914\n",
            "  Node ID: 53939, Distance: 2.6745\n",
            "  Node ID: 18352, Distance: 2.7784\n",
            "  Node ID: 52468, Distance: 2.8613\n",
            "  Node ID: 15081, Distance: 2.9884\n",
            "  Node ID: 29768, Distance: 3.0169\n",
            "  Node ID: 21342, Distance: 3.1030\n",
            "  Node ID: 17346, Distance: 3.2311\n",
            "  Node ID: 45266, Distance: 3.2524\n",
            "  Node ID: 18339, Distance: 3.2607\n",
            "\n",
            "Interpretation:\n",
            "The search returned 10 nearest neighbors for the query vector.\n",
            "Each result shows the ID of the vector in the index and its calculated distance from the query vector.\n",
            "Lower distance values indicate higher similarity between the stored vector and the query vector.\n"
          ]
        }
      ]
    },
    {
      "cell_type": "markdown",
      "metadata": {
        "id": "9c9f6065"
      },
      "source": [
        "## Summary:\n",
        "\n",
        "### Data Analysis Key Findings\n",
        "\n",
        "*   The Fashion MNIST dataset was successfully loaded and used for this task, containing 60,000 training images (base vectors) and 10,000 test images (query vectors), each flattened into a 784-dimensional vector.\n",
        "*   The numerical vectors from the dataset were verified to be of type `float32` and had a dimensionality of 784, which was correctly set for the HNSW index.\n",
        "*   An HNSW index was initialized with a dimensionality of 784, M=16, ef\\_construction=200, ef\\_search=50, and the L2 distance metric.\n",
        "*   All 60,000 base vectors from the Fashion MNIST training set were successfully added to the initialized HNSW index.\n",
        "*   A search was performed using the first vector from the test set as the query vector to find the 10 nearest neighbors in the index.\n",
        "*   The search successfully returned 10 results, each consisting of a node ID (representing the index of the vector in the base set) and the calculated L2 distance from the query vector. The distances ranged from approximately 1.8914 to 3.2607.\n",
        "\n",
        "### Insights or Next Steps\n",
        "\n",
        "*   The successful retrieval of neighbors and their distances indicates that the HNSW index was built and queried correctly, demonstrating the algorithm's ability to find similar items based on their vector representations.\n",
        "*   To further evaluate the performance of the HNSW index, one could compare the retrieved neighbors to the true nearest neighbors (found via brute-force search) to calculate recall and precision metrics.\n"
      ]
    },
    {
      "cell_type": "markdown",
      "metadata": {
        "id": "88a5f10e"
      },
      "source": [
        "## Visualize Query Image and Search Results\n",
        "\n",
        "### Subtask:\n",
        "Reshape the query vector and the top 10 search result vectors back into images and display them."
      ]
    },
    {
      "cell_type": "code",
      "metadata": {
        "colab": {
          "base_uri": "https://localhost:8080/",
          "height": 967
        },
        "id": "ec1d9221",
        "outputId": "d932bec8-f1d8-437d-bf36-9034ef04ae9c"
      },
      "source": [
        "import matplotlib.pyplot as plt\n",
        "\n",
        "# Reshape the query vector back to its original image shape (28x28 for Fashion MNIST)\n",
        "query_image = query_vector.reshape(28, 28)\n",
        "\n",
        "# Display the query image\n",
        "plt.figure(figsize=(4, 4))\n",
        "plt.imshow(query_image, cmap='gray')\n",
        "plt.title(\"Query Image\")\n",
        "plt.axis('off')\n",
        "plt.show()\n",
        "\n",
        "# Display the top 10 search result images\n",
        "print(\"\\nTop 10 Search Result Images:\")\n",
        "plt.figure(figsize=(12, 6))\n",
        "for i, (node_id, distance) in enumerate(results):\n",
        "    # Get the vector from the base_vectors using the node_id\n",
        "    result_vector = base_vectors[node_id]\n",
        "    # Reshape the result vector back to its original image shape\n",
        "    result_image = result_vector.reshape(28, 28)\n",
        "\n",
        "    # Display the result image\n",
        "    plt.subplot(2, 5, i + 1)\n",
        "    plt.imshow(result_image, cmap='gray')\n",
        "    plt.title(f\"Node ID: {node_id}\\nDistance: {distance:.4f}\")\n",
        "    plt.axis('off')\n",
        "\n",
        "plt.tight_layout()\n",
        "plt.show()"
      ],
      "execution_count": 12,
      "outputs": [
        {
          "output_type": "display_data",
          "data": {
            "text/plain": [
              "<Figure size 400x400 with 1 Axes>"
            ],
            "image/png": "[encoded data removed]"
          },
          "metadata": {}
        },
        {
          "output_type": "stream",
          "name": "stdout",
          "text": [
            "\n",
            "Top 10 Search Result Images:\n"
          ]
        },
        {
          "output_type": "display_data",
          "data": {
            "text/plain": [
              "<Figure size 1200x600 with 10 Axes>"
            ],
            "image/png": "[encoded data removed]"
          },
          "metadata": {}
        }
      ]
    }
  ]
}
